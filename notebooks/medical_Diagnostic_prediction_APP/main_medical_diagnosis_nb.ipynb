{
 "cells": [
  {
   "cell_type": "code",
   "id": "initial_id",
   "metadata": {
    "collapsed": true,
    "ExecuteTime": {
     "end_time": "2025-10-19T07:54:01.543498Z",
     "start_time": "2025-10-19T07:54:01.530559Z"
    }
   },
   "source": [
    "\n",
    "\n",
    "import pandas as pd\n",
    "import numpy as np\n",
    "import matplotlib.pyplot as plt\n",
    "import seaborn as sns\n",
    "\n",
    "\n",
    "\n"
   ],
   "outputs": [],
   "execution_count": 3
  },
  {
   "metadata": {
    "ExecuteTime": {
     "end_time": "2025-10-19T07:54:06.669829Z",
     "start_time": "2025-10-19T07:54:01.701078Z"
    }
   },
   "cell_type": "code",
   "source": [
    "from sklearn.model_selection import train_test_split, cross_val_score\n",
    "from sklearn.preprocessing import LabelEncoder\n",
    "from sklearn.naive_bayes import MultinomialNB\n",
    "from sklearn.ensemble import RandomForestClassifier\n",
    "from sklearn.metrics import classification_report, confusion_matrix, accuracy_score"
   ],
   "id": "333bfedb5b1e4e77",
   "outputs": [],
   "execution_count": 4
  },
  {
   "metadata": {
    "ExecuteTime": {
     "end_time": "2025-10-19T07:54:12.527673Z",
     "start_time": "2025-10-19T07:54:06.757557Z"
    }
   },
   "cell_type": "code",
   "source": [
    "import kagglehub\n",
    "\n",
    "# Download latest version\n",
    "path = kagglehub.dataset_download(\"kaushil268/disease-prediction-using-machine-learning\")\n",
    "\n",
    "print(\"Path to dataset files:\", path)"
   ],
   "id": "3d58bcf38b9869a1",
   "outputs": [
    {
     "name": "stdout",
     "output_type": "stream",
     "text": [
      "Warning: Looks like you're using an outdated `kagglehub` version (installed: 0.3.12), please consider upgrading to the latest version (0.3.13).\n",
      "Path to dataset files: C:\\Users\\user\\.cache\\kagglehub\\datasets\\kaushil268\\disease-prediction-using-machine-learning\\versions\\1\n"
     ]
    }
   ],
   "execution_count": 5
  },
  {
   "metadata": {
    "ExecuteTime": {
     "end_time": "2025-10-19T07:54:12.622422Z",
     "start_time": "2025-10-19T07:54:12.612350Z"
    }
   },
   "cell_type": "code",
   "source": [
    "import os\n",
    "folder =r'C:\\Users\\user\\.cache\\kagglehub\\datasets\\kaushil268\\disease-prediction-using-machine-learning\\versions\\1'\n",
    "print(os.listdir(folder))"
   ],
   "id": "21004013ac69fa56",
   "outputs": [
    {
     "name": "stdout",
     "output_type": "stream",
     "text": [
      "['Testing.csv', 'Training.csv']\n"
     ]
    }
   ],
   "execution_count": 6
  },
  {
   "metadata": {
    "ExecuteTime": {
     "end_time": "2025-10-19T07:54:12.859791Z",
     "start_time": "2025-10-19T07:54:12.692370Z"
    }
   },
   "cell_type": "code",
   "source": [
    "train_df =pd.read_csv(r'C:\\Users\\user\\.cache\\kagglehub\\datasets\\kaushil268\\disease-prediction-using-machine-learning\\versions\\1\\Training.csv')\n",
    "\n",
    "test_df = pd.read_csv(r'C:\\Users\\user\\.cache\\kagglehub\\datasets\\kaushil268\\disease-prediction-using-machine-learning\\versions\\1\\Testing.csv')"
   ],
   "id": "454a339876536ebf",
   "outputs": [],
   "execution_count": 7
  },
  {
   "metadata": {
    "ExecuteTime": {
     "end_time": "2025-10-19T07:54:12.926789Z",
     "start_time": "2025-10-19T07:54:12.881157Z"
    }
   },
   "cell_type": "code",
   "source": [
    "train_df = train_df.drop('Unnamed: 133', axis=1)\n",
    "print(train_df.head())"
   ],
   "id": "f866383536d952cc",
   "outputs": [
    {
     "name": "stdout",
     "output_type": "stream",
     "text": [
      "   itching  skin_rash  nodal_skin_eruptions  continuous_sneezing  shivering  \\\n",
      "0        1          1                     1                    0          0   \n",
      "1        0          1                     1                    0          0   \n",
      "2        1          0                     1                    0          0   \n",
      "3        1          1                     0                    0          0   \n",
      "4        1          1                     1                    0          0   \n",
      "\n",
      "   chills  joint_pain  stomach_pain  acidity  ulcers_on_tongue  ...  \\\n",
      "0       0           0             0        0                 0  ...   \n",
      "1       0           0             0        0                 0  ...   \n",
      "2       0           0             0        0                 0  ...   \n",
      "3       0           0             0        0                 0  ...   \n",
      "4       0           0             0        0                 0  ...   \n",
      "\n",
      "   blackheads  scurring  skin_peeling  silver_like_dusting  \\\n",
      "0           0         0             0                    0   \n",
      "1           0         0             0                    0   \n",
      "2           0         0             0                    0   \n",
      "3           0         0             0                    0   \n",
      "4           0         0             0                    0   \n",
      "\n",
      "   small_dents_in_nails  inflammatory_nails  blister  red_sore_around_nose  \\\n",
      "0                     0                   0        0                     0   \n",
      "1                     0                   0        0                     0   \n",
      "2                     0                   0        0                     0   \n",
      "3                     0                   0        0                     0   \n",
      "4                     0                   0        0                     0   \n",
      "\n",
      "   yellow_crust_ooze         prognosis  \n",
      "0                  0  Fungal infection  \n",
      "1                  0  Fungal infection  \n",
      "2                  0  Fungal infection  \n",
      "3                  0  Fungal infection  \n",
      "4                  0  Fungal infection  \n",
      "\n",
      "[5 rows x 133 columns]\n"
     ]
    }
   ],
   "execution_count": 8
  },
  {
   "metadata": {
    "ExecuteTime": {
     "end_time": "2025-10-19T07:54:13.084649Z",
     "start_time": "2025-10-19T07:54:13.060533Z"
    }
   },
   "cell_type": "code",
   "source": [
    "x =train_df.drop('prognosis', axis=1)\n",
    "y = train_df['prognosis']"
   ],
   "id": "34ee6a8904b4e38f",
   "outputs": [],
   "execution_count": 9
  },
  {
   "metadata": {
    "ExecuteTime": {
     "end_time": "2025-10-19T07:54:13.136344Z",
     "start_time": "2025-10-19T07:54:13.128713Z"
    }
   },
   "cell_type": "code",
   "source": [
    "print(x.shape)\n",
    "print(y.shape)"
   ],
   "id": "97e74805e686e8bf",
   "outputs": [
    {
     "name": "stdout",
     "output_type": "stream",
     "text": [
      "(4920, 132)\n",
      "(4920,)\n"
     ]
    }
   ],
   "execution_count": 10
  },
  {
   "metadata": {
    "ExecuteTime": {
     "end_time": "2025-10-19T07:54:13.258267Z",
     "start_time": "2025-10-19T07:54:13.242128Z"
    }
   },
   "cell_type": "code",
   "source": [
    "le = LabelEncoder()\n",
    "y_encoded = le.fit_transform(y)\n",
    "for i, class_name in enumerate(le.classes_):\n",
    "    print(f\"'{class_name}->{i}\")"
   ],
   "id": "e197a9d303dc4719",
   "outputs": [
    {
     "name": "stdout",
     "output_type": "stream",
     "text": [
      "'(vertigo) Paroymsal  Positional Vertigo->0\n",
      "'AIDS->1\n",
      "'Acne->2\n",
      "'Alcoholic hepatitis->3\n",
      "'Allergy->4\n",
      "'Arthritis->5\n",
      "'Bronchial Asthma->6\n",
      "'Cervical spondylosis->7\n",
      "'Chicken pox->8\n",
      "'Chronic cholestasis->9\n",
      "'Common Cold->10\n",
      "'Dengue->11\n",
      "'Diabetes ->12\n",
      "'Dimorphic hemmorhoids(piles)->13\n",
      "'Drug Reaction->14\n",
      "'Fungal infection->15\n",
      "'GERD->16\n",
      "'Gastroenteritis->17\n",
      "'Heart attack->18\n",
      "'Hepatitis B->19\n",
      "'Hepatitis C->20\n",
      "'Hepatitis D->21\n",
      "'Hepatitis E->22\n",
      "'Hypertension ->23\n",
      "'Hyperthyroidism->24\n",
      "'Hypoglycemia->25\n",
      "'Hypothyroidism->26\n",
      "'Impetigo->27\n",
      "'Jaundice->28\n",
      "'Malaria->29\n",
      "'Migraine->30\n",
      "'Osteoarthristis->31\n",
      "'Paralysis (brain hemorrhage)->32\n",
      "'Peptic ulcer diseae->33\n",
      "'Pneumonia->34\n",
      "'Psoriasis->35\n",
      "'Tuberculosis->36\n",
      "'Typhoid->37\n",
      "'Urinary tract infection->38\n",
      "'Varicose veins->39\n",
      "'hepatitis A->40\n"
     ]
    }
   ],
   "execution_count": 11
  },
  {
   "metadata": {
    "ExecuteTime": {
     "end_time": "2025-10-19T07:54:13.339396Z",
     "start_time": "2025-10-19T07:54:13.330281Z"
    }
   },
   "cell_type": "code",
   "source": [
    "import pickle\n",
    "with open('label_encoder.pkl','wb') as f:\n",
    "    pickle.dump(le, f)"
   ],
   "id": "e3a836674c52ab38",
   "outputs": [],
   "execution_count": 12
  },
  {
   "metadata": {
    "ExecuteTime": {
     "end_time": "2025-10-19T07:54:13.423449Z",
     "start_time": "2025-10-19T07:54:13.398655Z"
    }
   },
   "cell_type": "code",
   "source": [
    "# Use X and the encoded target y_encoded\n",
    "X_train, X_val, y_train, y_val = train_test_split(x, y_encoded, test_size=0.2, random_state=42)\n",
    "\n",
    "print(\"\\nShape of X_train:\", X_train.shape)\n",
    "print(\"Shape of X_val:\", X_val.shape)"
   ],
   "id": "deb9ee1267744391",
   "outputs": [
    {
     "name": "stdout",
     "output_type": "stream",
     "text": [
      "\n",
      "Shape of X_train: (3936, 132)\n",
      "Shape of X_val: (984, 132)\n"
     ]
    }
   ],
   "execution_count": 13
  },
  {
   "metadata": {
    "ExecuteTime": {
     "end_time": "2025-10-19T07:54:13.471125Z",
     "start_time": "2025-10-19T07:54:13.463142Z"
    }
   },
   "cell_type": "code",
   "source": [
    "from sklearn.linear_model import LogisticRegression\n",
    "from sklearn.tree import DecisionTreeClassifier\n",
    "from sklearn.ensemble import RandomForestClassifier\n",
    "from sklearn.naive_bayes import  GaussianNB\n",
    "from sklearn.neighbors import KNeighborsClassifier\n",
    "from sklearn.svm import SVC"
   ],
   "id": "6f5285dec504afd1",
   "outputs": [],
   "execution_count": 14
  },
  {
   "metadata": {
    "ExecuteTime": {
     "end_time": "2025-10-19T07:54:13.579763Z",
     "start_time": "2025-10-19T07:54:13.555139Z"
    }
   },
   "cell_type": "code",
   "source": [
    "models = {\n",
    "    \"Logistic Regression\":\n",
    "LogisticRegression(max_iter=1000),\n",
    "    \"Decision Tree\": DecisionTreeClassifier(),\n",
    "    \"Random Forest\": RandomForestClassifier(),\n",
    "    \"Naive Bayes\": GaussianNB(),\n",
    "    \"K-Neighbours\": KNeighborsClassifier(),\n",
    "    \"SVM\": SVC()\n",
    "}"
   ],
   "id": "7b0468f6463c8fe8",
   "outputs": [],
   "execution_count": 15
  },
  {
   "metadata": {
    "ExecuteTime": {
     "end_time": "2025-10-19T07:54:15.618672Z",
     "start_time": "2025-10-19T07:54:13.634564Z"
    }
   },
   "cell_type": "code",
   "source": [
    "for name, model in models.items():\n",
    "    model.fit(X_train, y_train)\n",
    "    y_pred = model.predict(X_val)\n",
    "    acc = accuracy_score(y_val, y_pred)\n",
    "    print(f\"{name}: {acc:.4f}\")"
   ],
   "id": "c1da5458bb75e3e6",
   "outputs": [
    {
     "name": "stdout",
     "output_type": "stream",
     "text": [
      "Logistic Regression: 1.0000\n",
      "Decision Tree: 1.0000\n",
      "Random Forest: 1.0000\n",
      "Naive Bayes: 1.0000\n"
     ]
    },
    {
     "name": "stderr",
     "output_type": "stream",
     "text": [
      "C:\\Users\\user\\PycharmProjects\\PythonProject1\\.venv\\Lib\\site-packages\\sklearn\\utils\\multiclass.py:79: UserWarning: The number of unique classes is greater than 50% of the number of samples.\n",
      "  ys_types = set(type_of_target(x) for x in ys)\n"
     ]
    },
    {
     "name": "stdout",
     "output_type": "stream",
     "text": [
      "K-Neighbours: 1.0000\n",
      "SVM: 1.0000\n"
     ]
    }
   ],
   "execution_count": 16
  },
  {
   "metadata": {
    "ExecuteTime": {
     "end_time": "2025-10-19T07:54:15.692567Z",
     "start_time": "2025-10-19T07:54:15.675328Z"
    }
   },
   "cell_type": "code",
   "source": [
    "# --- DEBUGGING CELL ---\n",
    "\n",
    "# 1. Check if the 'prognosis' column is in X_train by mistake\n",
    "if 'prognosis' in X_train.columns:\n",
    "    print(\"🚨 PROBLEM FOUND: 'prognosis' is still in X_train!\")\n",
    "else:\n",
    "    print(\"✅ GOOD: 'prognosis' is NOT in X_train.\")\n",
    "\n",
    "\n",
    "# 2. Let's check the shapes to make sure they match up\n",
    "print(\"\\n--- Data Shapes ---\")\n",
    "print(f\"X_train shape: {X_train.shape}\")\n",
    "print(f\"y_train shape: {y_train.shape}\")\n",
    "print(f\"X_val shape:  {X_val.shape}\")\n",
    "print(f\"y_val shape:  {y_val.shape}\")\n",
    "\n",
    "# 3. Display the first few columns of X_train to see what's in there\n",
    "print(\"\\nFirst 5 columns of X_train:\")\n",
    "print(list(X_train.columns[:5]))"
   ],
   "id": "8f01f6df1e12a167",
   "outputs": [
    {
     "name": "stdout",
     "output_type": "stream",
     "text": [
      "✅ GOOD: 'prognosis' is NOT in X_train.\n",
      "\n",
      "--- Data Shapes ---\n",
      "X_train shape: (3936, 132)\n",
      "y_train shape: (3936,)\n",
      "X_val shape:  (984, 132)\n",
      "y_val shape:  (984,)\n",
      "\n",
      "First 5 columns of X_train:\n",
      "['itching', 'skin_rash', 'nodal_skin_eruptions', 'continuous_sneezing', 'shivering']\n"
     ]
    }
   ],
   "execution_count": 17
  },
  {
   "metadata": {
    "ExecuteTime": {
     "end_time": "2025-10-19T07:54:15.763625Z",
     "start_time": "2025-10-19T07:54:15.755174Z"
    }
   },
   "cell_type": "code",
   "source": [
    "x_test = test_df.drop('prognosis', axis=1)\n",
    "y_test_text = test_df['prognosis']\n",
    "y_test =le.transform(y_test_text)"
   ],
   "id": "ca2d212f90fe670e",
   "outputs": [],
   "execution_count": 18
  },
  {
   "metadata": {
    "ExecuteTime": {
     "end_time": "2025-10-19T07:54:17.659086Z",
     "start_time": "2025-10-19T07:54:15.811775Z"
    }
   },
   "cell_type": "code",
   "source": [
    "for name, model in models.items():\n",
    "    model.fit(X_train, y_train)\n",
    "    y_pred = model.predict(X_val)\n",
    "    acc = accuracy_score(y_val, y_pred)\n",
    "    print(f\"{name}: {acc:.4f}\")"
   ],
   "id": "c3ba6d0ecad0511e",
   "outputs": [
    {
     "name": "stdout",
     "output_type": "stream",
     "text": [
      "Logistic Regression: 1.0000\n",
      "Decision Tree: 1.0000\n",
      "Random Forest: 1.0000\n",
      "Naive Bayes: 1.0000\n"
     ]
    },
    {
     "name": "stderr",
     "output_type": "stream",
     "text": [
      "C:\\Users\\user\\PycharmProjects\\PythonProject1\\.venv\\Lib\\site-packages\\sklearn\\utils\\multiclass.py:79: UserWarning: The number of unique classes is greater than 50% of the number of samples.\n",
      "  ys_types = set(type_of_target(x) for x in ys)\n"
     ]
    },
    {
     "name": "stdout",
     "output_type": "stream",
     "text": [
      "K-Neighbours: 1.0000\n",
      "SVM: 1.0000\n"
     ]
    }
   ],
   "execution_count": 19
  },
  {
   "metadata": {
    "ExecuteTime": {
     "end_time": "2025-10-19T07:54:21.011159Z",
     "start_time": "2025-10-19T07:54:17.690169Z"
    }
   },
   "cell_type": "code",
   "source": [
    "from sklearn.metrics import confusion_matrix\n",
    "import seaborn as sns\n",
    "import matplotlib.pyplot as plt\n",
    "\n",
    "y_pred = model.predict(X_val)\n",
    "\n",
    "cm = confusion_matrix(y_val,y_pred)\n",
    "plt.figure(figsize=(10,5))\n",
    "sns.heatmap(cm, annot=True, fmt='d', cmap='Blues')\n",
    "plt.xlabel('predicted')\n",
    "plt.ylabel('actual values')\n",
    "plt.title('confusion matrix')\n",
    "plt.show()"
   ],
   "id": "3d0ae9d45124ddfd",
   "outputs": [
    {
     "data": {
      "text/plain": [
       "<Figure size 1000x500 with 2 Axes>"
      ],
      "image/png": "[encoded data removed]"
     },
     "metadata": {},
     "output_type": "display_data"
    }
   ],
   "execution_count": 20
  },
  {
   "metadata": {
    "ExecuteTime": {
     "end_time": "2025-10-19T07:54:21.044036Z",
     "start_time": "2025-10-19T07:54:21.035943Z"
    }
   },
   "cell_type": "code",
   "source": [
    "\n",
    "print(len(X_train))\n",
    "print(len(X_val))\n",
    "print(len(train_df))\n"
   ],
   "id": "9f6982f5a06e413d",
   "outputs": [
    {
     "name": "stdout",
     "output_type": "stream",
     "text": [
      "3936\n",
      "984\n",
      "4920\n"
     ]
    }
   ],
   "execution_count": 21
  },
  {
   "metadata": {
    "ExecuteTime": {
     "end_time": "2025-10-19T07:54:21.121270Z",
     "start_time": "2025-10-19T07:54:21.108627Z"
    }
   },
   "cell_type": "code",
   "source": [
    "train_idx = set(X_train.index)\n",
    "val_idx = set(X_val.index)\n",
    "\n",
    "overlap = train_idx.intersection(val_idx)\n",
    "print(len(overlap))"
   ],
   "id": "6bfe42f6f1530ff9",
   "outputs": [
    {
     "name": "stdout",
     "output_type": "stream",
     "text": [
      "0\n"
     ]
    }
   ],
   "execution_count": 22
  },
  {
   "metadata": {
    "ExecuteTime": {
     "end_time": "2025-10-19T07:54:21.190262Z",
     "start_time": "2025-10-19T07:54:21.180436Z"
    }
   },
   "cell_type": "code",
   "source": "test_df['prognosis'] = le.transform(test_df['prognosis'])",
   "id": "60afa99b49f31086",
   "outputs": [],
   "execution_count": 23
  },
  {
   "metadata": {
    "ExecuteTime": {
     "end_time": "2025-10-19T07:54:21.263125Z",
     "start_time": "2025-10-19T07:54:21.243019Z"
    }
   },
   "cell_type": "code",
   "source": "print(test_df.head())",
   "id": "b490086d0916b6e8",
   "outputs": [
    {
     "name": "stdout",
     "output_type": "stream",
     "text": [
      "   itching  skin_rash  nodal_skin_eruptions  continuous_sneezing  shivering  \\\n",
      "0        1          1                     1                    0          0   \n",
      "1        0          0                     0                    1          1   \n",
      "2        0          0                     0                    0          0   \n",
      "3        1          0                     0                    0          0   \n",
      "4        1          1                     0                    0          0   \n",
      "\n",
      "   chills  joint_pain  stomach_pain  acidity  ulcers_on_tongue  ...  \\\n",
      "0       0           0             0        0                 0  ...   \n",
      "1       1           0             0        0                 0  ...   \n",
      "2       0           0             1        1                 1  ...   \n",
      "3       0           0             0        0                 0  ...   \n",
      "4       0           0             1        0                 0  ...   \n",
      "\n",
      "   blackheads  scurring  skin_peeling  silver_like_dusting  \\\n",
      "0           0         0             0                    0   \n",
      "1           0         0             0                    0   \n",
      "2           0         0             0                    0   \n",
      "3           0         0             0                    0   \n",
      "4           0         0             0                    0   \n",
      "\n",
      "   small_dents_in_nails  inflammatory_nails  blister  red_sore_around_nose  \\\n",
      "0                     0                   0        0                     0   \n",
      "1                     0                   0        0                     0   \n",
      "2                     0                   0        0                     0   \n",
      "3                     0                   0        0                     0   \n",
      "4                     0                   0        0                     0   \n",
      "\n",
      "   yellow_crust_ooze  prognosis  \n",
      "0                  0         15  \n",
      "1                  0          4  \n",
      "2                  0         16  \n",
      "3                  0          9  \n",
      "4                  0         14  \n",
      "\n",
      "[5 rows x 133 columns]\n"
     ]
    }
   ],
   "execution_count": 24
  },
  {
   "metadata": {
    "ExecuteTime": {
     "end_time": "2025-10-19T07:54:21.304684Z",
     "start_time": "2025-10-19T07:54:21.298421Z"
    }
   },
   "cell_type": "code",
   "source": [
    "X_test = test_df.drop('prognosis', axis=1)\n",
    "y_test = test_df['prognosis']"
   ],
   "id": "69c2260367150b98",
   "outputs": [],
   "execution_count": 25
  },
  {
   "metadata": {
    "ExecuteTime": {
     "end_time": "2025-10-19T07:54:21.381937Z",
     "start_time": "2025-10-19T07:54:21.361144Z"
    }
   },
   "cell_type": "code",
   "source": "y_pred = model.predict(X_test)",
   "id": "93a3992fb3456698",
   "outputs": [],
   "execution_count": 26
  },
  {
   "metadata": {
    "ExecuteTime": {
     "end_time": "2025-10-19T07:54:24.581103Z",
     "start_time": "2025-10-19T07:54:21.425546Z"
    }
   },
   "cell_type": "code",
   "source": [
    "from sklearn.metrics import accuracy_score, classification_report, confusion_matrix\n",
    "import seaborn as sns\n",
    "import matplotlib.pyplot as plt\n",
    "\n",
    "# Accuracy\n",
    "acc = accuracy_score(y_test, y_pred)\n",
    "print(f\"Test Set Accuracy: {acc:.4f}\")\n",
    "\n",
    "# Classification report\n",
    "print(classification_report(y_test, y_pred))\n",
    "\n",
    "# Confusion matrix\n",
    "cm = confusion_matrix(y_test, y_pred)\n",
    "\n",
    "plt.figure(figsize=(10, 6))\n",
    "sns.heatmap(cm, annot=True, fmt='d', cmap='Purples')\n",
    "plt.title('Confusion Matrix on Test Set')\n",
    "plt.xlabel('Predicted')\n",
    "plt.ylabel('Actual')\n",
    "plt.show()"
   ],
   "id": "da8d27f334a687b6",
   "outputs": [
    {
     "name": "stdout",
     "output_type": "stream",
     "text": [
      "Test Set Accuracy: 1.0000\n",
      "              precision    recall  f1-score   support\n",
      "\n",
      "           0       1.00      1.00      1.00         1\n",
      "           1       1.00      1.00      1.00         1\n",
      "           2       1.00      1.00      1.00         1\n",
      "           3       1.00      1.00      1.00         1\n",
      "           4       1.00      1.00      1.00         1\n",
      "           5       1.00      1.00      1.00         1\n",
      "           6       1.00      1.00      1.00         1\n",
      "           7       1.00      1.00      1.00         1\n",
      "           8       1.00      1.00      1.00         1\n",
      "           9       1.00      1.00      1.00         1\n",
      "          10       1.00      1.00      1.00         1\n",
      "          11       1.00      1.00      1.00         1\n",
      "          12       1.00      1.00      1.00         1\n",
      "          13       1.00      1.00      1.00         1\n",
      "          14       1.00      1.00      1.00         1\n",
      "          15       1.00      1.00      1.00         2\n",
      "          16       1.00      1.00      1.00         1\n",
      "          17       1.00      1.00      1.00         1\n",
      "          18       1.00      1.00      1.00         1\n",
      "          19       1.00      1.00      1.00         1\n",
      "          20       1.00      1.00      1.00         1\n",
      "          21       1.00      1.00      1.00         1\n",
      "          22       1.00      1.00      1.00         1\n",
      "          23       1.00      1.00      1.00         1\n",
      "          24       1.00      1.00      1.00         1\n",
      "          25       1.00      1.00      1.00         1\n",
      "          26       1.00      1.00      1.00         1\n",
      "          27       1.00      1.00      1.00         1\n",
      "          28       1.00      1.00      1.00         1\n",
      "          29       1.00      1.00      1.00         1\n",
      "          30       1.00      1.00      1.00         1\n",
      "          31       1.00      1.00      1.00         1\n",
      "          32       1.00      1.00      1.00         1\n",
      "          33       1.00      1.00      1.00         1\n",
      "          34       1.00      1.00      1.00         1\n",
      "          35       1.00      1.00      1.00         1\n",
      "          36       1.00      1.00      1.00         1\n",
      "          37       1.00      1.00      1.00         1\n",
      "          38       1.00      1.00      1.00         1\n",
      "          39       1.00      1.00      1.00         1\n",
      "          40       1.00      1.00      1.00         1\n",
      "\n",
      "    accuracy                           1.00        42\n",
      "   macro avg       1.00      1.00      1.00        42\n",
      "weighted avg       1.00      1.00      1.00        42\n",
      "\n"
     ]
    },
    {
     "name": "stderr",
     "output_type": "stream",
     "text": [
      "C:\\Users\\user\\PycharmProjects\\PythonProject1\\.venv\\Lib\\site-packages\\sklearn\\metrics\\_classification.py:98: UserWarning: The number of unique classes is greater than 50% of the number of samples.\n",
      "  type_true = type_of_target(y_true, input_name=\"y_true\")\n",
      "C:\\Users\\user\\PycharmProjects\\PythonProject1\\.venv\\Lib\\site-packages\\sklearn\\metrics\\_classification.py:99: UserWarning: The number of unique classes is greater than 50% of the number of samples.\n",
      "  type_pred = type_of_target(y_pred, input_name=\"y_pred\")\n",
      "C:\\Users\\user\\PycharmProjects\\PythonProject1\\.venv\\Lib\\site-packages\\sklearn\\metrics\\_classification.py:98: UserWarning: The number of unique classes is greater than 50% of the number of samples.\n",
      "  type_true = type_of_target(y_true, input_name=\"y_true\")\n",
      "C:\\Users\\user\\PycharmProjects\\PythonProject1\\.venv\\Lib\\site-packages\\sklearn\\metrics\\_classification.py:99: UserWarning: The number of unique classes is greater than 50% of the number of samples.\n",
      "  type_pred = type_of_target(y_pred, input_name=\"y_pred\")\n",
      "C:\\Users\\user\\PycharmProjects\\PythonProject1\\.venv\\Lib\\site-packages\\sklearn\\utils\\multiclass.py:79: UserWarning: The number of unique classes is greater than 50% of the number of samples.\n",
      "  ys_types = set(type_of_target(x) for x in ys)\n",
      "C:\\Users\\user\\PycharmProjects\\PythonProject1\\.venv\\Lib\\site-packages\\sklearn\\utils\\multiclass.py:79: UserWarning: The number of unique classes is greater than 50% of the number of samples.\n",
      "  ys_types = set(type_of_target(x) for x in ys)\n",
      "C:\\Users\\user\\PycharmProjects\\PythonProject1\\.venv\\Lib\\site-packages\\sklearn\\metrics\\_classification.py:98: UserWarning: The number of unique classes is greater than 50% of the number of samples.\n",
      "  type_true = type_of_target(y_true, input_name=\"y_true\")\n",
      "C:\\Users\\user\\PycharmProjects\\PythonProject1\\.venv\\Lib\\site-packages\\sklearn\\metrics\\_classification.py:99: UserWarning: The number of unique classes is greater than 50% of the number of samples.\n",
      "  type_pred = type_of_target(y_pred, input_name=\"y_pred\")\n",
      "C:\\Users\\user\\PycharmProjects\\PythonProject1\\.venv\\Lib\\site-packages\\sklearn\\utils\\multiclass.py:79: UserWarning: The number of unique classes is greater than 50% of the number of samples.\n",
      "  ys_types = set(type_of_target(x) for x in ys)\n",
      "C:\\Users\\user\\PycharmProjects\\PythonProject1\\.venv\\Lib\\site-packages\\sklearn\\utils\\multiclass.py:79: UserWarning: The number of unique classes is greater than 50% of the number of samples.\n",
      "  ys_types = set(type_of_target(x) for x in ys)\n",
      "C:\\Users\\user\\PycharmProjects\\PythonProject1\\.venv\\Lib\\site-packages\\sklearn\\metrics\\_classification.py:98: UserWarning: The number of unique classes is greater than 50% of the number of samples.\n",
      "  type_true = type_of_target(y_true, input_name=\"y_true\")\n",
      "C:\\Users\\user\\PycharmProjects\\PythonProject1\\.venv\\Lib\\site-packages\\sklearn\\metrics\\_classification.py:99: UserWarning: The number of unique classes is greater than 50% of the number of samples.\n",
      "  type_pred = type_of_target(y_pred, input_name=\"y_pred\")\n",
      "C:\\Users\\user\\PycharmProjects\\PythonProject1\\.venv\\Lib\\site-packages\\sklearn\\utils\\multiclass.py:79: UserWarning: The number of unique classes is greater than 50% of the number of samples.\n",
      "  ys_types = set(type_of_target(x) for x in ys)\n",
      "C:\\Users\\user\\PycharmProjects\\PythonProject1\\.venv\\Lib\\site-packages\\sklearn\\utils\\multiclass.py:79: UserWarning: The number of unique classes is greater than 50% of the number of samples.\n",
      "  ys_types = set(type_of_target(x) for x in ys)\n",
      "C:\\Users\\user\\PycharmProjects\\PythonProject1\\.venv\\Lib\\site-packages\\sklearn\\metrics\\_classification.py:98: UserWarning: The number of unique classes is greater than 50% of the number of samples.\n",
      "  type_true = type_of_target(y_true, input_name=\"y_true\")\n",
      "C:\\Users\\user\\PycharmProjects\\PythonProject1\\.venv\\Lib\\site-packages\\sklearn\\metrics\\_classification.py:99: UserWarning: The number of unique classes is greater than 50% of the number of samples.\n",
      "  type_pred = type_of_target(y_pred, input_name=\"y_pred\")\n",
      "C:\\Users\\user\\PycharmProjects\\PythonProject1\\.venv\\Lib\\site-packages\\sklearn\\utils\\multiclass.py:79: UserWarning: The number of unique classes is greater than 50% of the number of samples.\n",
      "  ys_types = set(type_of_target(x) for x in ys)\n",
      "C:\\Users\\user\\PycharmProjects\\PythonProject1\\.venv\\Lib\\site-packages\\sklearn\\utils\\multiclass.py:79: UserWarning: The number of unique classes is greater than 50% of the number of samples.\n",
      "  ys_types = set(type_of_target(x) for x in ys)\n",
      "C:\\Users\\user\\PycharmProjects\\PythonProject1\\.venv\\Lib\\site-packages\\sklearn\\metrics\\_classification.py:98: UserWarning: The number of unique classes is greater than 50% of the number of samples.\n",
      "  type_true = type_of_target(y_true, input_name=\"y_true\")\n",
      "C:\\Users\\user\\PycharmProjects\\PythonProject1\\.venv\\Lib\\site-packages\\sklearn\\metrics\\_classification.py:99: UserWarning: The number of unique classes is greater than 50% of the number of samples.\n",
      "  type_pred = type_of_target(y_pred, input_name=\"y_pred\")\n",
      "C:\\Users\\user\\PycharmProjects\\PythonProject1\\.venv\\Lib\\site-packages\\sklearn\\utils\\multiclass.py:79: UserWarning: The number of unique classes is greater than 50% of the number of samples.\n",
      "  ys_types = set(type_of_target(x) for x in ys)\n",
      "C:\\Users\\user\\PycharmProjects\\PythonProject1\\.venv\\Lib\\site-packages\\sklearn\\utils\\multiclass.py:79: UserWarning: The number of unique classes is greater than 50% of the number of samples.\n",
      "  ys_types = set(type_of_target(x) for x in ys)\n",
      "C:\\Users\\user\\PycharmProjects\\PythonProject1\\.venv\\Lib\\site-packages\\sklearn\\metrics\\_classification.py:98: UserWarning: The number of unique classes is greater than 50% of the number of samples.\n",
      "  type_true = type_of_target(y_true, input_name=\"y_true\")\n",
      "C:\\Users\\user\\PycharmProjects\\PythonProject1\\.venv\\Lib\\site-packages\\sklearn\\metrics\\_classification.py:99: UserWarning: The number of unique classes is greater than 50% of the number of samples.\n",
      "  type_pred = type_of_target(y_pred, input_name=\"y_pred\")\n",
      "C:\\Users\\user\\PycharmProjects\\PythonProject1\\.venv\\Lib\\site-packages\\sklearn\\utils\\multiclass.py:79: UserWarning: The number of unique classes is greater than 50% of the number of samples.\n",
      "  ys_types = set(type_of_target(x) for x in ys)\n",
      "C:\\Users\\user\\PycharmProjects\\PythonProject1\\.venv\\Lib\\site-packages\\sklearn\\utils\\multiclass.py:79: UserWarning: The number of unique classes is greater than 50% of the number of samples.\n",
      "  ys_types = set(type_of_target(x) for x in ys)\n",
      "C:\\Users\\user\\PycharmProjects\\PythonProject1\\.venv\\Lib\\site-packages\\sklearn\\metrics\\_classification.py:98: UserWarning: The number of unique classes is greater than 50% of the number of samples.\n",
      "  type_true = type_of_target(y_true, input_name=\"y_true\")\n",
      "C:\\Users\\user\\PycharmProjects\\PythonProject1\\.venv\\Lib\\site-packages\\sklearn\\metrics\\_classification.py:99: UserWarning: The number of unique classes is greater than 50% of the number of samples.\n",
      "  type_pred = type_of_target(y_pred, input_name=\"y_pred\")\n",
      "C:\\Users\\user\\PycharmProjects\\PythonProject1\\.venv\\Lib\\site-packages\\sklearn\\utils\\multiclass.py:79: UserWarning: The number of unique classes is greater than 50% of the number of samples.\n",
      "  ys_types = set(type_of_target(x) for x in ys)\n",
      "C:\\Users\\user\\PycharmProjects\\PythonProject1\\.venv\\Lib\\site-packages\\sklearn\\utils\\multiclass.py:79: UserWarning: The number of unique classes is greater than 50% of the number of samples.\n",
      "  ys_types = set(type_of_target(x) for x in ys)\n",
      "C:\\Users\\user\\PycharmProjects\\PythonProject1\\.venv\\Lib\\site-packages\\sklearn\\metrics\\_classification.py:98: UserWarning: The number of unique classes is greater than 50% of the number of samples.\n",
      "  type_true = type_of_target(y_true, input_name=\"y_true\")\n",
      "C:\\Users\\user\\PycharmProjects\\PythonProject1\\.venv\\Lib\\site-packages\\sklearn\\metrics\\_classification.py:99: UserWarning: The number of unique classes is greater than 50% of the number of samples.\n",
      "  type_pred = type_of_target(y_pred, input_name=\"y_pred\")\n",
      "C:\\Users\\user\\PycharmProjects\\PythonProject1\\.venv\\Lib\\site-packages\\sklearn\\utils\\multiclass.py:79: UserWarning: The number of unique classes is greater than 50% of the number of samples.\n",
      "  ys_types = set(type_of_target(x) for x in ys)\n",
      "C:\\Users\\user\\PycharmProjects\\PythonProject1\\.venv\\Lib\\site-packages\\sklearn\\utils\\multiclass.py:79: UserWarning: The number of unique classes is greater than 50% of the number of samples.\n",
      "  ys_types = set(type_of_target(x) for x in ys)\n",
      "C:\\Users\\user\\PycharmProjects\\PythonProject1\\.venv\\Lib\\site-packages\\sklearn\\metrics\\_classification.py:98: UserWarning: The number of unique classes is greater than 50% of the number of samples.\n",
      "  type_true = type_of_target(y_true, input_name=\"y_true\")\n",
      "C:\\Users\\user\\PycharmProjects\\PythonProject1\\.venv\\Lib\\site-packages\\sklearn\\metrics\\_classification.py:99: UserWarning: The number of unique classes is greater than 50% of the number of samples.\n",
      "  type_pred = type_of_target(y_pred, input_name=\"y_pred\")\n",
      "C:\\Users\\user\\PycharmProjects\\PythonProject1\\.venv\\Lib\\site-packages\\sklearn\\utils\\multiclass.py:79: UserWarning: The number of unique classes is greater than 50% of the number of samples.\n",
      "  ys_types = set(type_of_target(x) for x in ys)\n",
      "C:\\Users\\user\\PycharmProjects\\PythonProject1\\.venv\\Lib\\site-packages\\sklearn\\utils\\multiclass.py:79: UserWarning: The number of unique classes is greater than 50% of the number of samples.\n",
      "  ys_types = set(type_of_target(x) for x in ys)\n",
      "C:\\Users\\user\\PycharmProjects\\PythonProject1\\.venv\\Lib\\site-packages\\sklearn\\metrics\\_classification.py:98: UserWarning: The number of unique classes is greater than 50% of the number of samples.\n",
      "  type_true = type_of_target(y_true, input_name=\"y_true\")\n",
      "C:\\Users\\user\\PycharmProjects\\PythonProject1\\.venv\\Lib\\site-packages\\sklearn\\metrics\\_classification.py:99: UserWarning: The number of unique classes is greater than 50% of the number of samples.\n",
      "  type_pred = type_of_target(y_pred, input_name=\"y_pred\")\n",
      "C:\\Users\\user\\PycharmProjects\\PythonProject1\\.venv\\Lib\\site-packages\\sklearn\\utils\\multiclass.py:79: UserWarning: The number of unique classes is greater than 50% of the number of samples.\n",
      "  ys_types = set(type_of_target(x) for x in ys)\n",
      "C:\\Users\\user\\PycharmProjects\\PythonProject1\\.venv\\Lib\\site-packages\\sklearn\\utils\\multiclass.py:79: UserWarning: The number of unique classes is greater than 50% of the number of samples.\n",
      "  ys_types = set(type_of_target(x) for x in ys)\n"
     ]
    },
    {
     "data": {
      "text/plain": [
       "<Figure size 1000x600 with 2 Axes>"
      ],
      "image/png": "[encoded data removed]"
     },
     "metadata": {},
     "output_type": "display_data"
    }
   ],
   "execution_count": 27
  },
  {
   "metadata": {
    "ExecuteTime": {
     "end_time": "2025-10-19T07:54:24.620796Z",
     "start_time": "2025-10-19T07:54:24.613059Z"
    }
   },
   "cell_type": "code",
   "source": "symptoms = X_train.columns",
   "id": "c0f9390a2a86cd9f",
   "outputs": [],
   "execution_count": 28
  },
  {
   "metadata": {
    "ExecuteTime": {
     "end_time": "2025-10-19T07:54:24.672595Z",
     "start_time": "2025-10-19T07:54:24.662409Z"
    }
   },
   "cell_type": "code",
   "source": "user_input_symptom = ['sneezing', 'runny_nose','cough_congestion']",
   "id": "2bba624828b4d4d5",
   "outputs": [],
   "execution_count": 29
  },
  {
   "metadata": {
    "ExecuteTime": {
     "end_time": "2025-10-19T07:54:24.728713Z",
     "start_time": "2025-10-19T07:54:24.711257Z"
    }
   },
   "cell_type": "code",
   "source": [
    "def prepare_input(symptoms_list, all_symptoms):\n",
    "    input_data = np.zeros(len(all_symptoms))\n",
    "    for i, symptom in enumerate(all_symptoms):\n",
    "        if symptom in symptoms_list:\n",
    "            input_data[i] = 1\n",
    "    return  pd.DataFrame([input_data], columns=all_symptoms)\n",
    "\n",
    "input_df = prepare_input(user_input_symptom,symptoms)"
   ],
   "id": "ca16c6b5d144b723",
   "outputs": [],
   "execution_count": 30
  },
  {
   "metadata": {
    "ExecuteTime": {
     "end_time": "2025-10-19T07:54:24.762644Z",
     "start_time": "2025-10-19T07:54:24.749714Z"
    }
   },
   "cell_type": "code",
   "source": [
    "predicted_label_encoded = model.predict(input_df)[0]\n",
    "predicted_disease = le.inverse_transform([predicted_label_encoded])[0]\n",
    "print(\"Predicted Disease:\", predicted_disease)"
   ],
   "id": "9c35512653cd0070",
   "outputs": [
    {
     "name": "stdout",
     "output_type": "stream",
     "text": [
      "Predicted Disease: AIDS\n"
     ]
    }
   ],
   "execution_count": 31
  },
  {
   "metadata": {
    "ExecuteTime": {
     "end_time": "2025-10-19T07:54:24.827818Z",
     "start_time": "2025-10-19T07:54:24.813107Z"
    }
   },
   "cell_type": "code",
   "source": [
    "print(\"symptom vector sum\", input_df.sum(axis=1).values[0])\n",
    "print(\"columns to set 1\", input_df.columns[input_df.iloc[0] == 1].tolist())"
   ],
   "id": "bc0894656889353a",
   "outputs": [
    {
     "name": "stdout",
     "output_type": "stream",
     "text": [
      "symptom vector sum 1.0\n",
      "columns to set 1 ['runny_nose']\n"
     ]
    }
   ],
   "execution_count": 32
  },
  {
   "metadata": {
    "ExecuteTime": {
     "end_time": "2025-10-19T07:54:24.903196Z",
     "start_time": "2025-10-19T07:54:24.888748Z"
    }
   },
   "cell_type": "code",
   "source": [
    "pred_encoded = model.predict(input_df)[0]\n",
    "print(\"Predicted class (encoded):\", pred_encoded)\n",
    "print(\"Predicted disease:\", le.inverse_transform([pred_encoded])[0])"
   ],
   "id": "cec30eb9b79b1edc",
   "outputs": [
    {
     "name": "stdout",
     "output_type": "stream",
     "text": [
      "Predicted class (encoded): 1\n",
      "Predicted disease: AIDS\n"
     ]
    }
   ],
   "execution_count": 33
  },
  {
   "metadata": {
    "ExecuteTime": {
     "end_time": "2025-10-19T07:54:24.965613Z",
     "start_time": "2025-10-19T07:54:24.948489Z"
    }
   },
   "cell_type": "code",
   "source": [
    "print(\"traning samples per class\")\n",
    "print(train_df['prognosis'].value_counts())"
   ],
   "id": "64a060f66ded1710",
   "outputs": [
    {
     "name": "stdout",
     "output_type": "stream",
     "text": [
      "traning samples per class\n",
      "prognosis\n",
      "Fungal infection                           120\n",
      "Hepatitis C                                120\n",
      "Hepatitis E                                120\n",
      "Alcoholic hepatitis                        120\n",
      "Tuberculosis                               120\n",
      "Common Cold                                120\n",
      "Pneumonia                                  120\n",
      "Dimorphic hemmorhoids(piles)               120\n",
      "Heart attack                               120\n",
      "Varicose veins                             120\n",
      "Hypothyroidism                             120\n",
      "Hyperthyroidism                            120\n",
      "Hypoglycemia                               120\n",
      "Osteoarthristis                            120\n",
      "Arthritis                                  120\n",
      "(vertigo) Paroymsal  Positional Vertigo    120\n",
      "Acne                                       120\n",
      "Urinary tract infection                    120\n",
      "Psoriasis                                  120\n",
      "Hepatitis D                                120\n",
      "Hepatitis B                                120\n",
      "Allergy                                    120\n",
      "hepatitis A                                120\n",
      "GERD                                       120\n",
      "Chronic cholestasis                        120\n",
      "Drug Reaction                              120\n",
      "Peptic ulcer diseae                        120\n",
      "AIDS                                       120\n",
      "Diabetes                                   120\n",
      "Gastroenteritis                            120\n",
      "Bronchial Asthma                           120\n",
      "Hypertension                               120\n",
      "Migraine                                   120\n",
      "Cervical spondylosis                       120\n",
      "Paralysis (brain hemorrhage)               120\n",
      "Jaundice                                   120\n",
      "Malaria                                    120\n",
      "Chicken pox                                120\n",
      "Dengue                                     120\n",
      "Typhoid                                    120\n",
      "Impetigo                                   120\n",
      "Name: count, dtype: int64\n"
     ]
    }
   ],
   "execution_count": 34
  },
  {
   "metadata": {
    "ExecuteTime": {
     "end_time": "2025-10-19T07:54:25.070860Z",
     "start_time": "2025-10-19T07:54:25.059949Z"
    }
   },
   "cell_type": "code",
   "source": [
    "print(\"training classes\")\n",
    "print(train_df['prognosis'].value_counts())"
   ],
   "id": "19e8ad68c70d3e00",
   "outputs": [
    {
     "name": "stdout",
     "output_type": "stream",
     "text": [
      "training classes\n",
      "prognosis\n",
      "Fungal infection                           120\n",
      "Hepatitis C                                120\n",
      "Hepatitis E                                120\n",
      "Alcoholic hepatitis                        120\n",
      "Tuberculosis                               120\n",
      "Common Cold                                120\n",
      "Pneumonia                                  120\n",
      "Dimorphic hemmorhoids(piles)               120\n",
      "Heart attack                               120\n",
      "Varicose veins                             120\n",
      "Hypothyroidism                             120\n",
      "Hyperthyroidism                            120\n",
      "Hypoglycemia                               120\n",
      "Osteoarthristis                            120\n",
      "Arthritis                                  120\n",
      "(vertigo) Paroymsal  Positional Vertigo    120\n",
      "Acne                                       120\n",
      "Urinary tract infection                    120\n",
      "Psoriasis                                  120\n",
      "Hepatitis D                                120\n",
      "Hepatitis B                                120\n",
      "Allergy                                    120\n",
      "hepatitis A                                120\n",
      "GERD                                       120\n",
      "Chronic cholestasis                        120\n",
      "Drug Reaction                              120\n",
      "Peptic ulcer diseae                        120\n",
      "AIDS                                       120\n",
      "Diabetes                                   120\n",
      "Gastroenteritis                            120\n",
      "Bronchial Asthma                           120\n",
      "Hypertension                               120\n",
      "Migraine                                   120\n",
      "Cervical spondylosis                       120\n",
      "Paralysis (brain hemorrhage)               120\n",
      "Jaundice                                   120\n",
      "Malaria                                    120\n",
      "Chicken pox                                120\n",
      "Dengue                                     120\n",
      "Typhoid                                    120\n",
      "Impetigo                                   120\n",
      "Name: count, dtype: int64\n"
     ]
    }
   ],
   "execution_count": 35
  },
  {
   "metadata": {
    "ExecuteTime": {
     "end_time": "2025-10-19T07:54:25.180752Z",
     "start_time": "2025-10-19T07:54:25.165563Z"
    }
   },
   "cell_type": "code",
   "source": [
    "print(\"test class \")\n",
    "print(test_df['prognosis'].value_counts())"
   ],
   "id": "a9ad14c16b9757ef",
   "outputs": [
    {
     "name": "stdout",
     "output_type": "stream",
     "text": [
      "test class \n",
      "prognosis\n",
      "15    2\n",
      "20    1\n",
      "22    1\n",
      "3     1\n",
      "36    1\n",
      "10    1\n",
      "34    1\n",
      "13    1\n",
      "18    1\n",
      "39    1\n",
      "26    1\n",
      "24    1\n",
      "25    1\n",
      "31    1\n",
      "5     1\n",
      "0     1\n",
      "2     1\n",
      "38    1\n",
      "35    1\n",
      "21    1\n",
      "19    1\n",
      "4     1\n",
      "40    1\n",
      "16    1\n",
      "9     1\n",
      "14    1\n",
      "33    1\n",
      "1     1\n",
      "12    1\n",
      "17    1\n",
      "6     1\n",
      "23    1\n",
      "30    1\n",
      "7     1\n",
      "32    1\n",
      "28    1\n",
      "29    1\n",
      "8     1\n",
      "11    1\n",
      "37    1\n",
      "27    1\n",
      "Name: count, dtype: int64\n"
     ]
    }
   ],
   "execution_count": 36
  },
  {
   "metadata": {
    "ExecuteTime": {
     "end_time": "2025-10-19T07:54:25.345281Z",
     "start_time": "2025-10-19T07:54:25.244507Z"
    }
   },
   "cell_type": "code",
   "source": [
    "import pandas as pd\n",
    "\n",
    "# Paths to your datasets\n",
    "train_path = r'C:\\Users\\user\\.cache\\KaggleHub\\datasets\\kaushil268\\disease-prediction-using-machine-learning\\versions\\1\\Training.csv'\n",
    "test_path = r'C:\\Users\\user\\.cache\\KaggleHub\\datasets\\kaushil268\\disease-prediction-using-machine-learning\\versions\\1\\Testing.csv'\n",
    "\n",
    "# Load both datasets\n",
    "train_df = pd.read_csv(train_path)\n",
    "test_df = pd.read_csv(test_path)\n",
    "\n",
    "# Combine them into one big DataFrame\n",
    "full_df = pd.concat([train_df, test_df], ignore_index=True)\n",
    "\n",
    "# Now, we do our cleaning on this combined DataFrame\n",
    "full_df = full_df.drop('Unnamed: 133', axis=1)\n",
    "\n",
    "# Check the final shape\n",
    "print(f\"Shape of our full, combined dataset: {full_df.shape}\")\n",
    "print(\"Combined data loaded and cleaned successfully.\")"
   ],
   "id": "365dc8261b1c6a0e",
   "outputs": [
    {
     "name": "stdout",
     "output_type": "stream",
     "text": [
      "Shape of our full, combined dataset: (4962, 133)\n",
      "Combined data loaded and cleaned successfully.\n"
     ]
    }
   ],
   "execution_count": 37
  },
  {
   "metadata": {
    "ExecuteTime": {
     "end_time": "2025-10-19T07:54:25.399734Z",
     "start_time": "2025-10-19T07:54:25.383901Z"
    }
   },
   "cell_type": "code",
   "source": [
    "# X (features) = all columns except 'prognosis'\n",
    "X = full_df.drop('prognosis', axis=1)\n",
    "\n",
    "# y (target) = just the 'prognosis' column\n",
    "y = full_df['prognosis']\n",
    "\n",
    "print(f\"Shape of X (features): {X.shape}\")\n",
    "print(f\"Shape of y (target): {y.shape}\")"
   ],
   "id": "c3498e113789e9ea",
   "outputs": [
    {
     "name": "stdout",
     "output_type": "stream",
     "text": [
      "Shape of X (features): (4962, 132)\n",
      "Shape of y (target): (4962,)\n"
     ]
    }
   ],
   "execution_count": 38
  },
  {
   "metadata": {
    "ExecuteTime": {
     "end_time": "2025-10-19T07:54:25.460464Z",
     "start_time": "2025-10-19T07:54:25.449799Z"
    }
   },
   "cell_type": "code",
   "source": [
    "import numpy as np\n",
    "\n",
    "def add_noise(X, noise_level=0.15, seed=42):\n",
    "    \"\"\"\n",
    "    Randomly flips a percentage of the symptom data (0s to 1s, 1s to 0s)\n",
    "    to simulate a more realistic, \"noisy\" dataset.\n",
    "    \"\"\"\n",
    "    np.random.seed(seed)\n",
    "    X_noisy = X.copy()\n",
    "\n",
    "    # Calculate the total number of cells to flip\n",
    "    # Based on your old notebook: 15% of the number of rows\n",
    "    # A more robust way is to use noise_level * total_cells\n",
    "    num_cells_to_flip = int(noise_level * X.shape[0] * X.shape[1])\n",
    "\n",
    "    # Randomly select row and column indices to flip\n",
    "    rows = np.random.randint(0, X.shape[0], size=num_cells_to_flip)\n",
    "    cols = np.random.randint(0, X.shape[1], size=num_cells_to_flip)\n",
    "\n",
    "    # Flip the selected values (0 becomes 1, 1 becomes 0)\n",
    "    # Using .iat for fast single-cell access\n",
    "    for r, c in zip(rows, cols):\n",
    "        X_noisy.iat[r, c] = 1 - X_noisy.iat[r, c]\n",
    "\n",
    "    print(f\"Added noise: Flipped {num_cells_to_flip} data points.\")\n",
    "    return X_noisy"
   ],
   "id": "f684b5ad67c30770",
   "outputs": [],
   "execution_count": 39
  },
  {
   "metadata": {
    "ExecuteTime": {
     "end_time": "2025-10-19T07:54:26.015260Z",
     "start_time": "2025-10-19T07:54:25.498922Z"
    }
   },
   "cell_type": "code",
   "source": [
    "from sklearn.preprocessing import LabelEncoder\n",
    "from sklearn.model_selection import train_test_split\n",
    "import joblib\n",
    "\n",
    "# --- 1. Apply the noise function to our master X data ---\n",
    "print(\"Applying noise to the dataset...\")\n",
    "# Using 0.01 (1% noise) as a starting point. Your old notebook used 0.15,\n",
    "# but let's start lower to see the effect. You can change this value!\n",
    "X_noisy = add_noise(X, noise_level=0.01, seed=42)\n",
    "\n",
    "# --- 2. Encode the master y target variable ---\n",
    "print(\"Encoding the target variable (y)...\")\n",
    "le = LabelEncoder()\n",
    "y_encoded = le.fit_transform(y)\n",
    "\n",
    "# Save the encoder NOW so we don't forget.\n",
    "# This is critical for our app later.\n",
    "encoder_path = r'C:\\Users\\user\\PycharmProjects\\PythonProject1\\Medical-DiagnosticPRJ\\notebooks\\medical_Diagnostic_prediction_APP\\label_encoder.pkl'\n",
    "joblib.dump(le, encoder_path)\n",
    "print(f\"Label encoder saved to {encoder_path}\")\n",
    "\n",
    "# --- 3. Split the new NOISY data for training and testing ---\n",
    "# We'll use a 70/30 split. test_size=0.3 means 30% for testing.\n",
    "# stratify=y_encoded ensures both train and test sets have a\n",
    "# fair mix of all diseases.\n",
    "X_train, X_test, y_train, y_test = train_test_split(\n",
    "    X_noisy, y_encoded,\n",
    "    test_size=0.3,\n",
    "    random_state=42,\n",
    "    stratify=y_encoded\n",
    ")\n",
    "\n",
    "print(\"\\nData splitting complete:\")\n",
    "print(f\"X_train shape: {X_train.shape}\")\n",
    "print(f\"X_test shape: {X_test.shape}\")\n",
    "print(f\"y_train shape: {y_train.shape}\")\n",
    "print(f\"y_test shape: {y_test.shape}\")"
   ],
   "id": "2fdc3b8969fae8c0",
   "outputs": [
    {
     "name": "stdout",
     "output_type": "stream",
     "text": [
      "Applying noise to the dataset...\n",
      "Added noise: Flipped 6549 data points.\n",
      "Encoding the target variable (y)...\n",
      "Label encoder saved to C:\\Users\\user\\PycharmProjects\\PythonProject1\\Medical-DiagnosticPRJ\\notebooks\\medical_Diagnostic_prediction_APP\\label_encoder.pkl\n",
      "\n",
      "Data splitting complete:\n",
      "X_train shape: (3473, 132)\n",
      "X_test shape: (1489, 132)\n",
      "y_train shape: (3473,)\n",
      "y_test shape: (1489,)\n"
     ]
    }
   ],
   "execution_count": 40
  },
  {
   "metadata": {
    "ExecuteTime": {
     "end_time": "2025-10-19T07:54:32.564150Z",
     "start_time": "2025-10-19T07:54:26.049060Z"
    }
   },
   "cell_type": "code",
   "source": [
    "from sklearn.preprocessing import LabelEncoder\n",
    "from sklearn.model_selection import train_test_split\n",
    "import joblib\n",
    "\n",
    "# --- 1. Apply the noise function to our master X data ---\n",
    "print(\"Applying noise to the dataset...\")\n",
    "# We're using the 1% noise level, you can change this later\n",
    "X_noisy = add_noise(X, noise_level=0.15, seed=42)\n",
    "\n",
    "# --- 2. Encode the master y target variable ---\n",
    "print(\"Encoding the target variable (y)...\")\n",
    "le = LabelEncoder()\n",
    "y_encoded = le.fit_transform(y)\n",
    "\n",
    "# Save the encoder NOW so we don't forget.\n",
    "# This is critical for our app later.\n",
    "# Make sure you have a folder named 'medical_diagnostic_prediction_APP'\n",
    "import os\n",
    "os.makedirs('medical_diagnostic_prediction_APP', exist_ok=True)\n",
    "encoder_path = 'medical_diagnostic_prediction_APP/label_encoder.pkl'\n",
    "joblib.dump(le, encoder_path)\n",
    "print(f\"Label encoder saved to {encoder_path}\")\n",
    "\n",
    "# --- 3. Split the new NOISY data for training and validation ---\n",
    "# This is the line we are fixing. All the data is now\n",
    "# INSIDE the parentheses ()\n",
    "print(\"\\nSplitting data into train and validation sets...\")\n",
    "X_train, X_val, y_train, y_val = train_test_split(\n",
    "    X_noisy, y_encoded,\n",
    "    test_size=0.3,\n",
    "    random_state=42,\n",
    "    stratify=y_encoded\n",
    ")\n",
    "\n",
    "print(\"\\nData splitting complete:\")\n",
    "print(f\"X_train shape: {X_train.shape}\")\n",
    "print(f\"X_val shape: {X_val.shape}\")\n",
    "print(f\"y_train shape: {y_train.shape}\")\n",
    "print(f\"y_val shape: {y_val.shape}\")"
   ],
   "id": "e5c673260c114bd2",
   "outputs": [
    {
     "name": "stdout",
     "output_type": "stream",
     "text": [
      "Applying noise to the dataset...\n",
      "Added noise: Flipped 98247 data points.\n",
      "Encoding the target variable (y)...\n",
      "Label encoder saved to medical_diagnostic_prediction_APP/label_encoder.pkl\n",
      "\n",
      "Splitting data into train and validation sets...\n",
      "\n",
      "Data splitting complete:\n",
      "X_train shape: (3473, 132)\n",
      "X_val shape: (1489, 132)\n",
      "y_train shape: (3473,)\n",
      "y_val shape: (1489,)\n"
     ]
    }
   ],
   "execution_count": 41
  },
  {
   "metadata": {
    "ExecuteTime": {
     "end_time": "2025-10-19T07:54:49.983188Z",
     "start_time": "2025-10-19T07:54:32.599103Z"
    }
   },
   "cell_type": "code",
   "source": [
    "from sklearn.linear_model import LogisticRegression\n",
    "from sklearn.tree import DecisionTreeClassifier\n",
    "from sklearn.ensemble import RandomForestClassifier\n",
    "from sklearn.naive_bayes import GaussianNB\n",
    "from sklearn.neighbors import KNeighborsClassifier\n",
    "from sklearn.svm import SVC\n",
    "from sklearn.metrics import accuracy_score\n",
    "\n",
    "# 1. Define all the models you want to try\n",
    "models = {\n",
    "    'Logistic Regression': LogisticRegression(max_iter=1000, random_state=42),\n",
    "    'Decision Tree': DecisionTreeClassifier(random_state=42),\n",
    "    'Random Forest': RandomForestClassifier(random_state=42),\n",
    "    'Naive Bayes': GaussianNB(),\n",
    "    'K-Neighbours': KNeighborsClassifier(),\n",
    "    'SVM': SVC(kernel='rbf', probability=True, random_state=42) # probability=True is key!\n",
    "}\n",
    "\n",
    "# 2. Loop, train, and evaluate\n",
    "print(\"--- Training and Evaluating Models ---\")\n",
    "model_accuracies = {} # To store the scores\n",
    "\n",
    "for name, model in models.items():\n",
    "    # Train the model on the training data\n",
    "    print(f\"Training {name}...\")\n",
    "    model.fit(X_train, y_train)\n",
    "\n",
    "    # Make predictions on the validation data\n",
    "    y_pred = model.predict(X_val)\n",
    "\n",
    "    # Calculate and print the accuracy\n",
    "    acc = accuracy_score(y_val, y_pred)\n",
    "    model_accuracies[name] = acc\n",
    "    print(f\"✅ {name} Accuracy: {acc:.4f}\\n\")\n",
    "\n",
    "print(\"\\n--- All Models Trained ---\")\n",
    "print(model_accuracies)"
   ],
   "id": "68227a7e4134a532",
   "outputs": [
    {
     "name": "stdout",
     "output_type": "stream",
     "text": [
      "--- Training and Evaluating Models ---\n",
      "Training Logistic Regression...\n",
      "✅ Logistic Regression Accuracy: 0.8959\n",
      "\n",
      "Training Decision Tree...\n",
      "✅ Decision Tree Accuracy: 0.4748\n",
      "\n",
      "Training Random Forest...\n",
      "✅ Random Forest Accuracy: 0.8731\n",
      "\n",
      "Training Naive Bayes...\n",
      "✅ Naive Bayes Accuracy: 0.7676\n",
      "\n",
      "Training K-Neighbours...\n"
     ]
    },
    {
     "name": "stderr",
     "output_type": "stream",
     "text": [
      "C:\\Users\\user\\PycharmProjects\\PythonProject1\\.venv\\Lib\\site-packages\\sklearn\\utils\\multiclass.py:79: UserWarning: The number of unique classes is greater than 50% of the number of samples.\n",
      "  ys_types = set(type_of_target(x) for x in ys)\n"
     ]
    },
    {
     "name": "stdout",
     "output_type": "stream",
     "text": [
      "✅ K-Neighbours Accuracy: 0.7750\n",
      "\n",
      "Training SVM...\n",
      "✅ SVM Accuracy: 0.9187\n",
      "\n",
      "\n",
      "--- All Models Trained ---\n",
      "{'Logistic Regression': 0.8959032907991941, 'Decision Tree': 0.4748153122901276, 'Random Forest': 0.8730691739422431, 'Naive Bayes': 0.7676292813969107, 'K-Neighbours': 0.7750167897918065, 'SVM': 0.9187374076561451}\n"
     ]
    }
   ],
   "execution_count": 42
  },
  {
   "metadata": {
    "ExecuteTime": {
     "end_time": "2025-10-19T07:54:50.042316Z",
     "start_time": "2025-10-19T07:54:50.013869Z"
    }
   },
   "cell_type": "code",
   "source": [
    "import joblib\n",
    "\n",
    "# 1. Get our best-performing model (SVM) from the dictionary\n",
    "best_model = models['SVM']\n",
    "\n",
    "# 2. Define the path and save the model\n",
    "model_path = 'medical_diagnostic_prediction_APP/svm_model.pkl'\n",
    "joblib.dump(best_model, model_path)\n",
    "\n",
    "print(f\"Best model (SVM) saved successfully to: {model_path}\")\n",
    "\n",
    "# 3. We also MUST save the list of symptom columns\n",
    "# Our app needs this to create the input vector\n",
    "symptom_columns = list(X.columns)\n",
    "columns_path = 'medical_diagnostic_prediction_APP/symptom_columns.pkl'\n",
    "joblib.dump(symptom_columns, columns_path)\n",
    "\n",
    "print(f\"Symptom columns saved successfully to: {columns_path}\")"
   ],
   "id": "a163858fae69566d",
   "outputs": [
    {
     "name": "stdout",
     "output_type": "stream",
     "text": [
      "Best model (SVM) saved successfully to: medical_diagnostic_prediction_APP/svm_model.pkl\n",
      "Symptom columns saved successfully to: medical_diagnostic_prediction_APP/symptom_columns.pkl\n"
     ]
    }
   ],
   "execution_count": 43
  },
  {
   "metadata": {
    "ExecuteTime": {
     "end_time": "2025-10-19T07:54:50.187731Z",
     "start_time": "2025-10-19T07:54:50.099063Z"
    }
   },
   "cell_type": "code",
   "source": [
    "import joblib\n",
    "import numpy as np\n",
    "import pandas as pd\n",
    "\n",
    "# --- 1. Load All Our Saved Files ---\n",
    "# (Even though they are in memory, we load from the files\n",
    "# to prove that the files were saved correctly)\n",
    "\n",
    "model = joblib.load('medical_diagnostic_prediction_APP/svm_model.pkl')\n",
    "le = joblib.load('medical_diagnostic_prediction_APP/label_encoder.pkl')\n",
    "symptom_columns = joblib.load('medical_diagnostic_prediction_APP/symptom_columns.pkl')\n",
    "\n",
    "print(\"--- All files loaded successfully ---\")\n",
    "\n",
    "\n",
    "# --- 2. Define Your Test Symptoms ---\n",
    "# You can change this list to anything you want!\n",
    "# Let's try symptoms for 'Jaundice'\n",
    "user_input_symptoms = [\n",
    "  'stomach_pain', 'acidity', 'ulcers_on_tongue'\n",
    "]\n",
    "\n",
    "print(f\"\\nTesting with symptoms: {user_input_symptoms}\")\n",
    "\n",
    "# --- 3. Convert Symptoms to Model Input Vector ---\n",
    "# This is the logic your app will use\n",
    "\n",
    "# Create a zero vector with the same shape as the model's training data\n",
    "input_vector = np.zeros(len(symptom_columns))\n",
    "\n",
    "# Loop through the user's symptoms\n",
    "for symptom in user_input_symptoms:\n",
    "    if symptom in symptom_columns:\n",
    "        # Find the index of this symptom\n",
    "        idx = symptom_columns.index(symptom)\n",
    "        # Set the value at that index to 1\n",
    "        input_vector[idx] = 1\n",
    "    else:\n",
    "        print(f\"Warning: Symptom '{symptom}' not in database. Skipping.\")\n",
    "\n",
    "# Reshape the vector to be (1, n_features) as the model expects\n",
    "#input_vector = input_vector.reshape(1, -1)\n",
    "input_df = pd.DataFrame([input_vector],columns=symptom_columns)\n",
    "\n",
    "# --- 4. Make Predictions & Show Top 3 ---\n",
    "\n",
    "# Get the probabilities for all classes\n",
    "#probabilities = model.predict_proba(input_vector)[0]\n",
    "probabilities = model.predict_proba(input_df)[0]\n",
    "\n",
    "# Get the indices of the top 3 probabilities\n",
    "top_3_indices = np.argsort(probabilities)[-3:][::-1] # [::-1] to get descending order\n",
    "\n",
    "print(\"\\n--- Top 3 Predictions ---\")\n",
    "predictions_made = False\n",
    "for i in top_3_indices:\n",
    "    confidence = probabilities[i]\n",
    "    disease_name = le.inverse_transform([i])[0]\n",
    "\n",
    "    # Let's set a 5% threshold to show a prediction\n",
    "    if confidence > 0.05:\n",
    "        print(f\"Prediction: {disease_name}\")\n",
    "        print(f\"Confidence: {confidence * 100:.2f}%\")\n",
    "        print(\"-\" * 20)\n",
    "        predictions_made = True\n",
    "\n",
    "if not predictions_made:\n",
    "    print(\"Model is not confident enough to make a prediction.\")"
   ],
   "id": "107b13195e57ff0",
   "outputs": [
    {
     "name": "stdout",
     "output_type": "stream",
     "text": [
      "--- All files loaded successfully ---\n",
      "\n",
      "Testing with symptoms: ['stomach_pain', 'acidity', 'ulcers_on_tongue']\n",
      "\n",
      "--- Top 3 Predictions ---\n",
      "Prediction: GERD\n",
      "Confidence: 90.14%\n",
      "--------------------\n"
     ]
    }
   ],
   "execution_count": 44
  },
  {
   "metadata": {
    "ExecuteTime": {
     "end_time": "2025-10-19T07:54:50.334619Z",
     "start_time": "2025-10-19T07:54:50.326435Z"
    }
   },
   "cell_type": "code",
   "source": "print(symptom_columns)",
   "id": "fcccc75a103878a3",
   "outputs": [
    {
     "name": "stdout",
     "output_type": "stream",
     "text": [
      "['itching', 'skin_rash', 'nodal_skin_eruptions', 'continuous_sneezing', 'shivering', 'chills', 'joint_pain', 'stomach_pain', 'acidity', 'ulcers_on_tongue', 'muscle_wasting', 'vomiting', 'burning_micturition', 'spotting_ urination', 'fatigue', 'weight_gain', 'anxiety', 'cold_hands_and_feets', 'mood_swings', 'weight_loss', 'restlessness', 'lethargy', 'patches_in_throat', 'irregular_sugar_level', 'cough', 'high_fever', 'sunken_eyes', 'breathlessness', 'sweating', 'dehydration', 'indigestion', 'headache', 'yellowish_skin', 'dark_urine', 'nausea', 'loss_of_appetite', 'pain_behind_the_eyes', 'back_pain', 'constipation', 'abdominal_pain', 'diarrhoea', 'mild_fever', 'yellow_urine', 'yellowing_of_eyes', 'acute_liver_failure', 'fluid_overload', 'swelling_of_stomach', 'swelled_lymph_nodes', 'malaise', 'blurred_and_distorted_vision', 'phlegm', 'throat_irritation', 'redness_of_eyes', 'sinus_pressure', 'runny_nose', 'congestion', 'chest_pain', 'weakness_in_limbs', 'fast_heart_rate', 'pain_during_bowel_movements', 'pain_in_anal_region', 'bloody_stool', 'irritation_in_anus', 'neck_pain', 'dizziness', 'cramps', 'bruising', 'obesity', 'swollen_legs', 'swollen_blood_vessels', 'puffy_face_and_eyes', 'enlarged_thyroid', 'brittle_nails', 'swollen_extremeties', 'excessive_hunger', 'extra_marital_contacts', 'drying_and_tingling_lips', 'slurred_speech', 'knee_pain', 'hip_joint_pain', 'muscle_weakness', 'stiff_neck', 'swelling_joints', 'movement_stiffness', 'spinning_movements', 'loss_of_balance', 'unsteadiness', 'weakness_of_one_body_side', 'loss_of_smell', 'bladder_discomfort', 'foul_smell_of urine', 'continuous_feel_of_urine', 'passage_of_gases', 'internal_itching', 'toxic_look_(typhos)', 'depression', 'irritability', 'muscle_pain', 'altered_sensorium', 'red_spots_over_body', 'belly_pain', 'abnormal_menstruation', 'dischromic _patches', 'watering_from_eyes', 'increased_appetite', 'polyuria', 'family_history', 'mucoid_sputum', 'rusty_sputum', 'lack_of_concentration', 'visual_disturbances', 'receiving_blood_transfusion', 'receiving_unsterile_injections', 'coma', 'stomach_bleeding', 'distention_of_abdomen', 'history_of_alcohol_consumption', 'fluid_overload.1', 'blood_in_sputum', 'prominent_veins_on_calf', 'palpitations', 'painful_walking', 'pus_filled_pimples', 'blackheads', 'scurring', 'skin_peeling', 'silver_like_dusting', 'small_dents_in_nails', 'inflammatory_nails', 'blister', 'red_sore_around_nose', 'yellow_crust_ooze']\n"
     ]
    }
   ],
   "execution_count": 45
  }
 ],
 "metadata": {
  "kernelspec": {
   "display_name": "Python 3",
   "language": "python",
   "name": "python3"
  },
  "language_info": {
   "codemirror_mode": {
    "name": "ipython",
    "version": 2
   },
   "file_extension": ".py",
   "mimetype": "text/x-python",
   "name": "python",
   "nbconvert_exporter": "python",
   "pygments_lexer": "ipython2",
   "version": "2.7.6"
  }
 },
 "nbformat": 4,
 "nbformat_minor": 5
}
